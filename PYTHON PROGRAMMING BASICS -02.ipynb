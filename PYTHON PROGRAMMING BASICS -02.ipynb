{
 "cells": [
  {
   "cell_type": "markdown",
   "id": "cf7acb2c",
   "metadata": {},
   "source": [
    "###  CHAPTER 04 -  FUNCTIONS AND LOOPS"
   ]
  },
  {
   "cell_type": "markdown",
   "id": "92264575",
   "metadata": {},
   "source": [
    "### 4.1   3 types of Functions:\n",
    "\n",
    "- **Predefined Functions/Builtin functions**- which will get automatically installed into your local machine when we install anaconda navigator.\n",
    "\n",
    "- **Userdefined functions**- user given functions, according to his own preferences - it is customizable function.\n",
    "\n",
    "- **Anonymous functions**  - it is a nameless function, which is used for accomplish one operation at once.\n"
   ]
  },
  {
   "cell_type": "markdown",
   "id": "cb1370d0",
   "metadata": {},
   "source": [
    "#### USER DEFINED FUNCTION\n",
    "*** IT IS A TWO STEP FUNCTION\n",
    "-  STEP 01: define your function\n",
    "-  STEP 02: call your function    "
   ]
  },
  {
   "cell_type": "code",
   "execution_count": 1,
   "id": "930c814e",
   "metadata": {},
   "outputs": [],
   "source": [
    "def get_details():\n",
    "    print(\"WELCOME TO FIRST FUNCTION!!\")\n",
    "    print(\"THANKS!!:)\")\n",
    "    "
   ]
  },
  {
   "cell_type": "code",
   "execution_count": 2,
   "id": "835855fb",
   "metadata": {},
   "outputs": [
    {
     "name": "stdout",
     "output_type": "stream",
     "text": [
      "WELCOME TO FIRST FUNCTION!!\n",
      "THANKS!!:)\n"
     ]
    }
   ],
   "source": [
    "get_details()"
   ]
  },
  {
   "cell_type": "code",
   "execution_count": 3,
   "id": "e5a16ed8",
   "metadata": {},
   "outputs": [],
   "source": [
    "def get_learner_details(name,age): # arguments\n",
    "    print('NAME:',name)\n",
    "    print('AGE:', age)"
   ]
  },
  {
   "cell_type": "raw",
   "id": "77143cb6",
   "metadata": {},
   "source": [
    "# when we are calling the function we send the parameters. and these parameters are stored inside def and called as arguments.\n",
    "# Number of parameters should be equal to number of arguments"
   ]
  },
  {
   "cell_type": "code",
   "execution_count": 4,
   "id": "7f745ff1",
   "metadata": {},
   "outputs": [
    {
     "name": "stdout",
     "output_type": "stream",
     "text": [
      "NAME: anudeep\n",
      "AGE: 30\n"
     ]
    }
   ],
   "source": [
    "get_learner_details('anudeep',30) # parameters"
   ]
  },
  {
   "cell_type": "markdown",
   "id": "b1ca43eb",
   "metadata": {},
   "source": [
    "###  positional arguments"
   ]
  },
  {
   "cell_type": "code",
   "execution_count": 5,
   "id": "96b8ff65",
   "metadata": {},
   "outputs": [],
   "source": [
    "\n",
    "def get_learner_details(name,age,company): # arguments\n",
    "    print('NAME:',name)\n",
    "    print('AGE:', age)\n",
    "    print(\"COMPANY\",company)"
   ]
  },
  {
   "cell_type": "code",
   "execution_count": 6,
   "id": "a94212e1",
   "metadata": {},
   "outputs": [
    {
     "name": "stdout",
     "output_type": "stream",
     "text": [
      "NAME: riya\n",
      "AGE: 22\n",
      "COMPANY IBM\n"
     ]
    }
   ],
   "source": [
    "get_learner_details('riya',22,'IBM')"
   ]
  },
  {
   "cell_type": "code",
   "execution_count": 7,
   "id": "01b2c139",
   "metadata": {},
   "outputs": [
    {
     "name": "stdout",
     "output_type": "stream",
     "text": [
      "NAME: reta\n",
      "AGE: 25\n",
      "COMPANY google\n"
     ]
    }
   ],
   "source": [
    "get_learner_details('reta',25,'google')"
   ]
  },
  {
   "cell_type": "markdown",
   "id": "6bd03e2d",
   "metadata": {},
   "source": [
    "### default argument"
   ]
  },
  {
   "cell_type": "code",
   "execution_count": 8,
   "id": "5252eafe",
   "metadata": {},
   "outputs": [],
   "source": [
    "\n",
    "def get_learner_details2(name,age,company='GOOGLE'): # arguments\n",
    "    print('***********************************')\n",
    "    print('NAME:',name)\n",
    "    print('AGE:', age)\n",
    "    print(\"COMPANY\",company)\n",
    "    print('***********************************')\n"
   ]
  },
  {
   "cell_type": "code",
   "execution_count": 9,
   "id": "1661070d",
   "metadata": {},
   "outputs": [
    {
     "name": "stdout",
     "output_type": "stream",
     "text": [
      "***********************************\n",
      "NAME: kushi\n",
      "AGE: 24\n",
      "COMPANY GOOGLE\n",
      "***********************************\n"
     ]
    }
   ],
   "source": [
    "get_learner_details2('kushi',24)"
   ]
  },
  {
   "cell_type": "code",
   "execution_count": 10,
   "id": "309515be",
   "metadata": {},
   "outputs": [
    {
     "name": "stdout",
     "output_type": "stream",
     "text": [
      "***********************************\n",
      "NAME: arnav\n",
      "AGE: 28\n",
      "COMPANY GOOGLE\n",
      "***********************************\n"
     ]
    }
   ],
   "source": [
    "get_learner_details2('arnav',28)"
   ]
  },
  {
   "cell_type": "markdown",
   "id": "fde40ead",
   "metadata": {},
   "source": [
    "### variable length argument: The parameters can be of different numbers"
   ]
  },
  {
   "cell_type": "code",
   "execution_count": 11,
   "id": "ed2d9289",
   "metadata": {},
   "outputs": [],
   "source": [
    "def get_learner_details3(name,age,*company):\n",
    "    print('***********************************')\n",
    "    print('NAME:',name)\n",
    "    print('AGE:', age)\n",
    "    print(\"COMPANY\",company)\n",
    "    print('***********************************')\n",
    "\n",
    "    "
   ]
  },
  {
   "cell_type": "code",
   "execution_count": 12,
   "id": "3ea50f0b",
   "metadata": {},
   "outputs": [
    {
     "name": "stdout",
     "output_type": "stream",
     "text": [
      "***********************************\n",
      "NAME: Haritha\n",
      "AGE: 23\n",
      "COMPANY ('google', 'ibm', 'dell')\n",
      "***********************************\n"
     ]
    }
   ],
   "source": [
    "get_learner_details3('Haritha',23,'google','ibm','dell')"
   ]
  },
  {
   "cell_type": "markdown",
   "id": "789d0a6d",
   "metadata": {},
   "source": [
    "###  keyword arguments"
   ]
  },
  {
   "cell_type": "code",
   "execution_count": 13,
   "id": "4e848067",
   "metadata": {},
   "outputs": [],
   "source": [
    "def get_learner_details4(name,age,**company):\n",
    "    print('***********************************')\n",
    "    print('NAME:',name)\n",
    "    print('AGE:', age)\n",
    "    print(\"COMPANY\",company)\n",
    "    print('***********************************')\n"
   ]
  },
  {
   "cell_type": "code",
   "execution_count": 14,
   "id": "9f7a54e2",
   "metadata": {},
   "outputs": [
    {
     "name": "stdout",
     "output_type": "stream",
     "text": [
      "***********************************\n",
      "NAME: Haritha\n",
      "AGE: 23\n",
      "COMPANY {'company_1': 'google', 'company_2': 'ibm', 'company_3': 'dell'}\n",
      "***********************************\n"
     ]
    }
   ],
   "source": [
    "get_learner_details4('Haritha',23,company_1='google',company_2='ibm',company_3='dell')"
   ]
  },
  {
   "cell_type": "markdown",
   "id": "fb41e088",
   "metadata": {},
   "source": [
    "###  variable length and key word arguments"
   ]
  },
  {
   "cell_type": "code",
   "execution_count": 15,
   "id": "d566d7fe",
   "metadata": {},
   "outputs": [],
   "source": [
    "def get_learner_details5(age,*name,**company):\n",
    "    print('***********************************')\n",
    "    print('NAME:',name)\n",
    "    print('AGE:', age)\n",
    "    print(\"COMPANY\",company)\n",
    "    print('***********************************')\n"
   ]
  },
  {
   "cell_type": "code",
   "execution_count": 16,
   "id": "bd61bb57",
   "metadata": {},
   "outputs": [
    {
     "name": "stdout",
     "output_type": "stream",
     "text": [
      "***********************************\n",
      "NAME: ('akash', 'arnav')\n",
      "AGE: 25\n",
      "COMPANY {'company_1': 'google', 'company_2': 'ibm', 'company_3': 'dell'}\n",
      "***********************************\n"
     ]
    }
   ],
   "source": [
    "get_learner_details5(25,'akash','arnav',company_1='google',company_2='ibm',company_3='dell')"
   ]
  },
  {
   "cell_type": "markdown",
   "id": "d044dfd8",
   "metadata": {},
   "source": [
    "### NOTE:"
   ]
  },
  {
   "cell_type": "code",
   "execution_count": 17,
   "id": "9cec8a46",
   "metadata": {},
   "outputs": [],
   "source": [
    "def sum_numbers(num1,num2):\n",
    "    print(num1)\n",
    "    print(num2)\n",
    "    return num1+num2 # return acts as a termination point and a function can have only 1 return statement."
   ]
  },
  {
   "cell_type": "code",
   "execution_count": 18,
   "id": "2d2254fb",
   "metadata": {},
   "outputs": [
    {
     "name": "stdout",
     "output_type": "stream",
     "text": [
      "50\n",
      "30\n"
     ]
    },
    {
     "data": {
      "text/plain": [
       "80"
      ]
     },
     "execution_count": 18,
     "metadata": {},
     "output_type": "execute_result"
    }
   ],
   "source": [
    "sum_numbers(50,30)"
   ]
  },
  {
   "cell_type": "markdown",
   "id": "3e668ce3",
   "metadata": {},
   "source": [
    "### 4.2 RUN IN CIRCLES"
   ]
  },
  {
   "cell_type": "code",
   "execution_count": 19,
   "id": "e65e5f10",
   "metadata": {},
   "outputs": [
    {
     "data": {
      "text/plain": [
       "range(1, 11)"
      ]
     },
     "execution_count": 19,
     "metadata": {},
     "output_type": "execute_result"
    }
   ],
   "source": [
    "range(1, 11)"
   ]
  },
  {
   "cell_type": "code",
   "execution_count": 20,
   "id": "e13f5640",
   "metadata": {},
   "outputs": [
    {
     "name": "stdout",
     "output_type": "stream",
     "text": [
      "1\n",
      "2\n",
      "3\n",
      "4\n",
      "5\n",
      "6\n",
      "7\n",
      "8\n",
      "9\n",
      "10\n"
     ]
    }
   ],
   "source": [
    "for i in range(1,11):\n",
    "    print(i)"
   ]
  },
  {
   "cell_type": "code",
   "execution_count": 21,
   "id": "373b90ff",
   "metadata": {},
   "outputs": [
    {
     "name": "stdout",
     "output_type": "stream",
     "text": [
      "1\n",
      "3\n",
      "5\n",
      "7\n",
      "9\n"
     ]
    }
   ],
   "source": [
    "for i in range(1,11,2):\n",
    "    print(i)"
   ]
  },
  {
   "cell_type": "markdown",
   "id": "132dac34",
   "metadata": {},
   "source": [
    "### 4.3 task-  create a user defined function with for loop"
   ]
  },
  {
   "cell_type": "code",
   "execution_count": 22,
   "id": "61bc23ef",
   "metadata": {},
   "outputs": [],
   "source": [
    "def multiplication_of_numbers():\n",
    "    for i in range(1,5):\n",
    "        print(i)\n",
    "    return(i*i+1)\n",
    "    "
   ]
  },
  {
   "cell_type": "code",
   "execution_count": 23,
   "id": "81fbbe5d",
   "metadata": {},
   "outputs": [
    {
     "name": "stdout",
     "output_type": "stream",
     "text": [
      "1\n",
      "2\n",
      "3\n",
      "4\n"
     ]
    },
    {
     "data": {
      "text/plain": [
       "17"
      ]
     },
     "execution_count": 23,
     "metadata": {},
     "output_type": "execute_result"
    }
   ],
   "source": [
    "multiplication_of_numbers()"
   ]
  },
  {
   "cell_type": "code",
   "execution_count": 24,
   "id": "cdd7564e",
   "metadata": {},
   "outputs": [],
   "source": [
    "def user_input():\n",
    "    for i in range(1,10,2):\n",
    "        print(i+1)\n",
    "    return(i*i)"
   ]
  },
  {
   "cell_type": "code",
   "execution_count": 25,
   "id": "3cb64858",
   "metadata": {},
   "outputs": [
    {
     "name": "stdout",
     "output_type": "stream",
     "text": [
      "2\n",
      "4\n",
      "6\n",
      "8\n",
      "10\n"
     ]
    },
    {
     "data": {
      "text/plain": [
       "81"
      ]
     },
     "execution_count": 25,
     "metadata": {},
     "output_type": "execute_result"
    }
   ],
   "source": [
    "user_input()"
   ]
  },
  {
   "cell_type": "code",
   "execution_count": 26,
   "id": "44fba907",
   "metadata": {},
   "outputs": [],
   "source": [
    "def get_name(name):\n",
    "    for i in name:\n",
    "        print(i)\n",
    "    return (\"FUNCTION ENDED\")    "
   ]
  },
  {
   "cell_type": "code",
   "execution_count": 27,
   "id": "70c4020f",
   "metadata": {},
   "outputs": [
    {
     "name": "stdout",
     "output_type": "stream",
     "text": [
      "V\n",
      "I\n",
      "N\n",
      "A\n",
      "Y\n"
     ]
    },
    {
     "data": {
      "text/plain": [
       "'FUNCTION ENDED'"
      ]
     },
     "execution_count": 27,
     "metadata": {},
     "output_type": "execute_result"
    }
   ],
   "source": [
    "get_name('VINAY')"
   ]
  },
  {
   "cell_type": "markdown",
   "id": "37123009",
   "metadata": {},
   "source": [
    "## CONDITIONAL LOGICS "
   ]
  },
  {
   "cell_type": "markdown",
   "id": "24e07463",
   "metadata": {},
   "source": [
    "### 5.1 COMPARE VALUES"
   ]
  },
  {
   "cell_type": "code",
   "execution_count": 28,
   "id": "45d2be8a",
   "metadata": {},
   "outputs": [
    {
     "data": {
      "text/plain": [
       "False"
      ]
     },
     "execution_count": 28,
     "metadata": {},
     "output_type": "execute_result"
    }
   ],
   "source": [
    "5 == '5' # equal to operator"
   ]
  },
  {
   "cell_type": "code",
   "execution_count": 30,
   "id": "7526c9cf",
   "metadata": {},
   "outputs": [
    {
     "ename": "SyntaxError",
     "evalue": "cannot assign to literal (Temp/ipykernel_12448/3619573732.py, line 1)",
     "output_type": "error",
     "traceback": [
      "\u001b[1;36m  File \u001b[1;32m\"C:\\Users\\PRIYANKA\\AppData\\Local\\Temp/ipykernel_12448/3619573732.py\"\u001b[1;36m, line \u001b[1;32m1\u001b[0m\n\u001b[1;33m    5 = 5\u001b[0m\n\u001b[1;37m    ^\u001b[0m\n\u001b[1;31mSyntaxError\u001b[0m\u001b[1;31m:\u001b[0m cannot assign to literal\n"
     ]
    }
   ],
   "source": [
    "5 = 5"
   ]
  },
  {
   "cell_type": "code",
   "execution_count": 31,
   "id": "2b6cee58",
   "metadata": {},
   "outputs": [
    {
     "data": {
      "text/plain": [
       "True"
      ]
     },
     "execution_count": 31,
     "metadata": {},
     "output_type": "execute_result"
    }
   ],
   "source": [
    "'A' != 'B' # not equal to operator"
   ]
  },
  {
   "cell_type": "code",
   "execution_count": 32,
   "id": "85f836df",
   "metadata": {},
   "outputs": [
    {
     "data": {
      "text/plain": [
       "2.5"
      ]
     },
     "execution_count": 32,
     "metadata": {},
     "output_type": "execute_result"
    }
   ],
   "source": [
    "5/2  # quotient"
   ]
  },
  {
   "cell_type": "code",
   "execution_count": 33,
   "id": "79a8133d",
   "metadata": {},
   "outputs": [
    {
     "data": {
      "text/plain": [
       "1"
      ]
     },
     "execution_count": 33,
     "metadata": {},
     "output_type": "execute_result"
    }
   ],
   "source": [
    "5%2 # remainder"
   ]
  },
  {
   "cell_type": "code",
   "execution_count": 34,
   "id": "adea5b33",
   "metadata": {},
   "outputs": [
    {
     "data": {
      "text/plain": [
       "False"
      ]
     },
     "execution_count": 34,
     "metadata": {},
     "output_type": "execute_result"
    }
   ],
   "source": [
    "5%2 == 0"
   ]
  },
  {
   "cell_type": "markdown",
   "id": "0d590e45",
   "metadata": {},
   "source": [
    "###  5.2 ADD SOME LOGICS\n",
    "\n",
    "### >>>>> Different Operators in Python <<<<<<<<<<\n",
    "\n",
    "##### AND Operator - will return True, only if both conditions is True.\n",
    "##### OR Operator - will return True if anyone condition is True.\n",
    "##### IN operator - we use to check if that particular word is available in my data.\n",
    "##### NOT IN operator - we use to check if that particular word is not available in my data.\n",
    "\n",
    "\n",
    "https://www.geeksforgeeks.org/python-programming-examples/\n"
   ]
  },
  {
   "cell_type": "code",
   "execution_count": 35,
   "id": "10438531",
   "metadata": {},
   "outputs": [],
   "source": [
    "machine_learning = 95\n",
    "deep_learning =100\n",
    "nlp = 98"
   ]
  },
  {
   "cell_type": "code",
   "execution_count": 36,
   "id": "c096c13f",
   "metadata": {},
   "outputs": [
    {
     "data": {
      "text/plain": [
       "False"
      ]
     },
     "execution_count": 36,
     "metadata": {},
     "output_type": "execute_result"
    }
   ],
   "source": [
    "machine_learning>deep_learning"
   ]
  },
  {
   "cell_type": "code",
   "execution_count": 37,
   "id": "054b199a",
   "metadata": {},
   "outputs": [
    {
     "data": {
      "text/plain": [
       "True"
      ]
     },
     "execution_count": 37,
     "metadata": {},
     "output_type": "execute_result"
    }
   ],
   "source": [
    "deep_learning>nlp"
   ]
  },
  {
   "cell_type": "code",
   "execution_count": 38,
   "id": "edd02ca1",
   "metadata": {},
   "outputs": [
    {
     "data": {
      "text/plain": [
       "False"
      ]
     },
     "execution_count": 38,
     "metadata": {},
     "output_type": "execute_result"
    }
   ],
   "source": [
    "deep_learning<nlp"
   ]
  },
  {
   "cell_type": "code",
   "execution_count": 39,
   "id": "db2be88e",
   "metadata": {},
   "outputs": [
    {
     "data": {
      "text/plain": [
       "False"
      ]
     },
     "execution_count": 39,
     "metadata": {},
     "output_type": "execute_result"
    }
   ],
   "source": [
    "machine_learning>deep_learning and deep_learning<nlp"
   ]
  },
  {
   "cell_type": "code",
   "execution_count": 40,
   "id": "3bd87399",
   "metadata": {},
   "outputs": [
    {
     "ename": "SyntaxError",
     "evalue": "invalid syntax (Temp/ipykernel_12448/2819626694.py, line 1)",
     "output_type": "error",
     "traceback": [
      "\u001b[1;36m  File \u001b[1;32m\"C:\\Users\\PRIYANKA\\AppData\\Local\\Temp/ipykernel_12448/2819626694.py\"\u001b[1;36m, line \u001b[1;32m1\u001b[0m\n\u001b[1;33m    machine_learning>deep_learning and deep_learning>\u001b[0m\n\u001b[1;37m                                                     ^\u001b[0m\n\u001b[1;31mSyntaxError\u001b[0m\u001b[1;31m:\u001b[0m invalid syntax\n"
     ]
    }
   ],
   "source": [
    "machine_learning>deep_learning and deep_learning>"
   ]
  },
  {
   "cell_type": "code",
   "execution_count": 41,
   "id": "3e6b5062",
   "metadata": {},
   "outputs": [
    {
     "data": {
      "text/plain": [
       "True"
      ]
     },
     "execution_count": 41,
     "metadata": {},
     "output_type": "execute_result"
    }
   ],
   "source": [
    "machine_learning<deep_learning and deep_learning>nlp"
   ]
  },
  {
   "cell_type": "code",
   "execution_count": 42,
   "id": "a9dd079a",
   "metadata": {},
   "outputs": [
    {
     "data": {
      "text/plain": [
       "True"
      ]
     },
     "execution_count": 42,
     "metadata": {},
     "output_type": "execute_result"
    }
   ],
   "source": [
    "machine_learning<deep_learning or deep_learning>nlp"
   ]
  },
  {
   "cell_type": "code",
   "execution_count": 43,
   "id": "233abfef",
   "metadata": {},
   "outputs": [
    {
     "data": {
      "text/plain": [
       "True"
      ]
     },
     "execution_count": 43,
     "metadata": {},
     "output_type": "execute_result"
    }
   ],
   "source": [
    "machine_learning>deep_learning or deep_learning>nlp"
   ]
  },
  {
   "cell_type": "code",
   "execution_count": 44,
   "id": "8568b00e",
   "metadata": {},
   "outputs": [
    {
     "data": {
      "text/plain": [
       "False"
      ]
     },
     "execution_count": 44,
     "metadata": {},
     "output_type": "execute_result"
    }
   ],
   "source": [
    "machine_learning>deep_learning or deep_learning<nlp"
   ]
  },
  {
   "cell_type": "code",
   "execution_count": 45,
   "id": "c63dec83",
   "metadata": {},
   "outputs": [],
   "source": [
    "feedback = 'pytho is bit intresting and challenging'"
   ]
  },
  {
   "cell_type": "code",
   "execution_count": 46,
   "id": "c1c66587",
   "metadata": {},
   "outputs": [
    {
     "data": {
      "text/plain": [
       "True"
      ]
     },
     "execution_count": 46,
     "metadata": {},
     "output_type": "execute_result"
    }
   ],
   "source": [
    "'intresting' in feedback"
   ]
  },
  {
   "cell_type": "code",
   "execution_count": 47,
   "id": "efdcab64",
   "metadata": {},
   "outputs": [
    {
     "data": {
      "text/plain": [
       "False"
      ]
     },
     "execution_count": 47,
     "metadata": {},
     "output_type": "execute_result"
    }
   ],
   "source": [
    "'challenging' not in feedback"
   ]
  },
  {
   "cell_type": "markdown",
   "id": "8c510b0f",
   "metadata": {},
   "source": [
    "### 5.3  CONTROL THE FLOW OF PROGRAM"
   ]
  },
  {
   "cell_type": "code",
   "execution_count": 50,
   "id": "f908ec6f",
   "metadata": {},
   "outputs": [
    {
     "name": "stdout",
     "output_type": "stream",
     "text": [
      "enter the passwordalpha\n",
      "STRONG PASSWORD\n"
     ]
    }
   ],
   "source": [
    "get_user_password=input(\"enter the password\")\n",
    "\n",
    "if len(get_user_password)<5:\n",
    "    print('WEEK PASSWORD')\n",
    "else:\n",
    "    print(\"STRONG PASSWORD\")"
   ]
  },
  {
   "cell_type": "code",
   "execution_count": 49,
   "id": "d6c7e105",
   "metadata": {},
   "outputs": [
    {
     "name": "stdout",
     "output_type": "stream",
     "text": [
      "enter the password:aRJUN@01\n",
      "MODERATE PASSWORD\n"
     ]
    }
   ],
   "source": [
    "get_user_password=input(\"enter the password:\")\n",
    "\n",
    "if len(get_user_password)<5:\n",
    "    print('WEEK PASSWORD')\n",
    "elif 5<=len(get_user_password)<=10:\n",
    "    print(\"MODERATE PASSWORD\")\n",
    "else:\n",
    "    print(\"STRONG PASSWORD\")"
   ]
  },
  {
   "cell_type": "markdown",
   "id": "da6a0dc6",
   "metadata": {},
   "source": [
    "### 5.4 CHALLENGE TO FIND FACTORS OF A NUMBER"
   ]
  },
  {
   "cell_type": "code",
   "execution_count": 51,
   "id": "d0171759",
   "metadata": {},
   "outputs": [],
   "source": [
    "#1. GET INPUT FROM USER\n",
    "#2. USER ENTERS= 10,THE FACTORS OF NUMBERS ARE 1,2,5,10"
   ]
  },
  {
   "cell_type": "code",
   "execution_count": 52,
   "id": "806463a7",
   "metadata": {},
   "outputs": [
    {
     "name": "stdout",
     "output_type": "stream",
     "text": [
      "enter a number to find factors:10\n",
      "1\n",
      "2\n",
      "5\n",
      "10\n"
     ]
    }
   ],
   "source": [
    "user_input=int(input(\"enter a number to find factors:\"))\n",
    "\n",
    "for i in range(1,user_input+1):\n",
    "    if user_input%i==0:\n",
    "        print(i)"
   ]
  },
  {
   "cell_type": "markdown",
   "id": "0d64923e",
   "metadata": {},
   "source": [
    "### 5.5 BREAK OUT OF PATTERN"
   ]
  },
  {
   "cell_type": "code",
   "execution_count": 53,
   "id": "a26d37a3",
   "metadata": {},
   "outputs": [
    {
     "name": "stdout",
     "output_type": "stream",
     "text": [
      "type q to ext this window:t\n",
      "type q to ext this window:d\n",
      "type q to ext this window:F\n",
      "type q to ext this window:K\n",
      "type q to ext this window:L\n",
      "type q to ext this window:Q\n",
      "type q to ext this window:q\n"
     ]
    }
   ],
   "source": [
    "while True:\n",
    "    user_input= input('type q to ext this window:')\n",
    "\n",
    "    if user_input == 'q':\n",
    "        break"
   ]
  },
  {
   "cell_type": "code",
   "execution_count": 54,
   "id": "2a930629",
   "metadata": {},
   "outputs": [
    {
     "name": "stdout",
     "output_type": "stream",
     "text": [
      "type q to ext this window:s\n",
      "type q to ext this window:O\n",
      "type q to ext this window:s\n",
      "type q to ext this window:Q\n"
     ]
    }
   ],
   "source": [
    "while True:\n",
    "    user_input= input('type q to ext this window:')\n",
    "\n",
    "    if user_input.lower() == 'q':\n",
    "        break"
   ]
  },
  {
   "cell_type": "code",
   "execution_count": 55,
   "id": "c1bb4830",
   "metadata": {},
   "outputs": [
    {
     "name": "stdout",
     "output_type": "stream",
     "text": [
      "1\n",
      "2\n",
      "3\n",
      "4\n",
      "6\n",
      "7\n",
      "8\n",
      "9\n"
     ]
    }
   ],
   "source": [
    "for i in range(1,10):\n",
    "    if i==5:\n",
    "        continue  # skips the particular condition and contiues further\n",
    "    print(i)    "
   ]
  },
  {
   "cell_type": "code",
   "execution_count": 56,
   "id": "6b51a820",
   "metadata": {},
   "outputs": [
    {
     "name": "stdout",
     "output_type": "stream",
     "text": [
      "1\n",
      "2\n",
      "3\n",
      "4\n"
     ]
    }
   ],
   "source": [
    "for i in range(1,10):\n",
    "    if i==5:\n",
    "        break  # condition satisfied loop will break\n",
    "    print(i)    "
   ]
  },
  {
   "cell_type": "code",
   "execution_count": null,
   "id": "9cf463e2",
   "metadata": {},
   "outputs": [],
   "source": []
  }
 ],
 "metadata": {
  "kernelspec": {
   "display_name": "Python 3 (ipykernel)",
   "language": "python",
   "name": "python3"
  },
  "language_info": {
   "codemirror_mode": {
    "name": "ipython",
    "version": 3
   },
   "file_extension": ".py",
   "mimetype": "text/x-python",
   "name": "python",
   "nbconvert_exporter": "python",
   "pygments_lexer": "ipython3",
   "version": "3.9.7"
  }
 },
 "nbformat": 4,
 "nbformat_minor": 5
}
